{
 "cells": [
  {
   "cell_type": "markdown",
   "id": "01413f12",
   "metadata": {},
   "source": [
    "# Weekly Summary - Jan 17, 2022"
   ]
  },
  {
   "cell_type": "markdown",
   "id": "665aa4fd",
   "metadata": {},
   "source": [
    "## Section 1: Concepts Covered\n",
    "\n",
    "- k-Means Clustering\n",
    "    - How it works\n",
    "    - Limitations of k-means\n",
    "    - Created k-Means algorithm using python\n",
    "    \n",
    "    \n",
    "- Feature Engineering\n",
    "    - What it is\n",
    "    - How to apply it to categorical features\n",
    "    - How to apply it to text features\n",
    "    - What it means to create derived features\n",
    "    - Imputation of datax\n",
    "   \n",
    "    \n",
    "- Understanding Scikit-Learn's Estimator API\n",
    "    - Choose class of model, instantiate model class, arrange data, fit data to model, apply model to new data\n",
    "    - Simple python example for linear regression\n",
    "    - Simple python example for classification"
   ]
  },
  {
   "cell_type": "markdown",
   "id": "006ae591",
   "metadata": {},
   "source": [
    "## Section 2: Areas of Suggested Growth\n",
    "\n",
    "- Clustering\n",
    "    - k-Means Clustering\n",
    "       - Using kernal transformation to project data into a higher dimension\n",
    "       - Using silhouette analysis to determine # of clusters to choose\n",
    "       - Apply k-Means to digits example\n",
    "       - Apply k-Means to Color compression\n",
    "    - More complicated clustering algorithms\n",
    "    \n",
    "    \n",
    "- Linear Regression\n",
    "    - In-depth example in Python\n",
    "    - Understand multiple linear regression models\n",
    "    \n",
    "    \n",
    "- Classification\n",
    "    - In-depth exmaple in Python\n",
    "    - Understand multiple classification models\n",
    "    \n",
    "    \n",
    "- Feature Engineering\n",
    "    - How to apply it to Image features\n",
    "    - Understanding **Basis function regression** example (Convert linear to polynomial regression)\n",
    "    \n",
    "   \n",
    "- Answer [Ongoing Questions] (https://docs.google.com/document/d/1Qrks_y0xzxzFO4ZhN9YDIdYfc6O6NbR2CQm6l0Z-2tQ/edit?usp=sharing)"
   ]
  }
 ],
 "metadata": {
  "kernelspec": {
   "display_name": "Python 3",
   "language": "python",
   "name": "python3"
  },
  "language_info": {
   "codemirror_mode": {
    "name": "ipython",
    "version": 3
   },
   "file_extension": ".py",
   "mimetype": "text/x-python",
   "name": "python",
   "nbconvert_exporter": "python",
   "pygments_lexer": "ipython3",
   "version": "3.8.8"
  }
 },
 "nbformat": 4,
 "nbformat_minor": 5
}
