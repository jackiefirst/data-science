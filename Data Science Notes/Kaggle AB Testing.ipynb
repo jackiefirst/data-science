{
 "cells": [
  {
   "cell_type": "markdown",
   "id": "66b8f015",
   "metadata": {},
   "source": [
    "# A/B Testing\n",
    "\n",
    "# Step 1: Decide type of Test\n",
    "\n",
    "Decide between a t-test and Mann-Whitney U test.\n",
    "\n",
    "1. t-test\n",
    "    - **Normality Assumption holds** \n",
    "        - Shaphiro Wilks test to see if the series has normal distribution (p-value > 0.05)\n",
    "        - Box Plt to see is series has outliers\n",
    "    - **Homogeneity**\n",
    "        - If p-value > .05 then code should have `equal_var=True`\n",
    "        - In p-value < .05 then code should have `equal_var=False`\n",
    "2. Mann-Whitney U test\n",
    "    - **Normality Assumption does not hold** (p-value < 0.05)\n"
   ]
  }
 ],
 "metadata": {
  "kernelspec": {
   "display_name": "Python 3",
   "language": "python",
   "name": "python3"
  },
  "language_info": {
   "codemirror_mode": {
    "name": "ipython",
    "version": 3
   },
   "file_extension": ".py",
   "mimetype": "text/x-python",
   "name": "python",
   "nbconvert_exporter": "python",
   "pygments_lexer": "ipython3",
   "version": "3.8.8"
  }
 },
 "nbformat": 4,
 "nbformat_minor": 5
}
