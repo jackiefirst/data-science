{
 "cells": [
  {
   "cell_type": "markdown",
   "id": "6ad4da33",
   "metadata": {},
   "source": [
    "# NumPy"
   ]
  },
  {
   "cell_type": "markdown",
   "id": "6d4ff050",
   "metadata": {},
   "source": [
    "Python uses dynamic typing. Meaning a variable does not have to be explicitly declared.Data types are inferred."
   ]
  },
  {
   "cell_type": "code",
   "execution_count": null,
   "id": "81c27ce4",
   "metadata": {},
   "outputs": [],
   "source": [
    "# /* C code */\n",
    "# int result = 0;\n",
    "# for(int i=0; i<100; i++){\n",
    "#     result += i;\n",
    "# }"
   ]
  },
  {
   "cell_type": "code",
   "execution_count": null,
   "id": "61136cf0",
   "metadata": {},
   "outputs": [],
   "source": [
    "# Python code\n",
    "x = 4\n",
    "x = \"four\""
   ]
  },
  {
   "cell_type": "markdown",
   "id": "b15a2404",
   "metadata": {},
   "source": [
    "# A Python Integer Is More Than Just an Integer"
   ]
  },
  {
   "cell_type": "code",
   "execution_count": null,
   "id": "fd47804e",
   "metadata": {},
   "outputs": [],
   "source": [
    "struct _longobject {\n",
    "    long ob_refcnt;\n",
    "    PyTypeObject *ob_type;\n",
    "    size_t ob_size;\n",
    "    long ob_digit[1];\n",
    "};"
   ]
  },
  {
   "cell_type": "markdown",
   "id": "a58f4785",
   "metadata": {},
   "source": [
    "A single integer in Python 3.4 actually contains four pieces:\n",
    "\n",
    "1. `ob_refcnt`, a reference count that helps Python silently handle memory allocation and deallocation\n",
    "2. `ob_type`, which encodes the type of the variable\n",
    "3. `ob_size`, which specifies the size of the following data members\n",
    "4. `ob_digit`, which contains the actual integer value that we expect the Python variable to represent."
   ]
  },
  {
   "cell_type": "markdown",
   "id": "8ef7af67",
   "metadata": {},
   "source": [
    "A **Python integer** is a pointer to a position in memory containing all the Python object information, including the bytes that contain the integer value\n",
    "\n",
    "A **C integer** is essentially a label for a position in memory whose bytes encode an integer value"
   ]
  },
  {
   "cell_type": "markdown",
   "id": "396e7c2c",
   "metadata": {},
   "source": [
    "# A Python List Is More Than Just a List\n",
    "\n",
    "**List**: Mutable, multi-elemrnt container\n",
    "\n",
    "Flexibility comes at a cost: to allow these flexible types, each item in the list must contain its own type info, reference count, and other information–that is, each item is a complete Python object.\n",
    "\n",
    "The array essentially contains a single pointer to one contiguous block of data. The Python list, on the other hand, contains a pointer to a block of pointers, each of which in turn points to a full Python object like the Python integer we saw earlier."
   ]
  },
  {
   "cell_type": "code",
   "execution_count": 3,
   "id": "cd099936",
   "metadata": {},
   "outputs": [
    {
     "data": {
      "text/plain": [
       "[bool, str, float, int]"
      ]
     },
     "execution_count": 3,
     "metadata": {},
     "output_type": "execute_result"
    }
   ],
   "source": [
    "L3 = [True, \"2\", 3.0, 4]\n",
    "[type(item) for item in L3]"
   ]
  },
  {
   "cell_type": "markdown",
   "id": "f4cbac2d",
   "metadata": {},
   "source": [
    "# Fixed-Type Arrays in Python\n",
    "\n",
    "The built-in `array` module (available since Python 3.3) can be used to create dense arrays of a uniform type:\n",
    "\n",
    "Where `i` is specifying type as integer."
   ]
  },
  {
   "cell_type": "code",
   "execution_count": 4,
   "id": "b17a75c8",
   "metadata": {},
   "outputs": [
    {
     "data": {
      "text/plain": [
       "array('i', [0, 1, 2, 3, 4, 5, 6, 7, 8, 9])"
      ]
     },
     "execution_count": 4,
     "metadata": {},
     "output_type": "execute_result"
    }
   ],
   "source": [
    "import array\n",
    "L = list(range(10))\n",
    "A = array.array('i', L)\n",
    "A"
   ]
  },
  {
   "cell_type": "markdown",
   "id": "ecb99486",
   "metadata": {},
   "source": [
    "# Creating Arrays from Python Lists\n",
    "\n",
    "- NumPy is constrained to arrays that all contain the same type. If types do not match, NumPy will upcast if possible (ex: integers are up-cast to floating)\n",
    "- `dtype`\n",
    "- Can be multi-dimensional"
   ]
  },
  {
   "cell_type": "code",
   "execution_count": 5,
   "id": "eae7bbf9",
   "metadata": {},
   "outputs": [],
   "source": [
    "import numpy as np"
   ]
  },
  {
   "cell_type": "code",
   "execution_count": 8,
   "id": "f86bfe77",
   "metadata": {},
   "outputs": [
    {
     "data": {
      "text/plain": [
       "array([1, 4, 2, 5, 3])"
      ]
     },
     "execution_count": 8,
     "metadata": {},
     "output_type": "execute_result"
    }
   ],
   "source": [
    "# integer array:\n",
    "np.array([1, 4, 2, 5, 3])"
   ]
  },
  {
   "cell_type": "code",
   "execution_count": 7,
   "id": "fea25f7b",
   "metadata": {},
   "outputs": [
    {
     "data": {
      "text/plain": [
       "array([3.14, 4.  , 2.  , 3.  ])"
      ]
     },
     "execution_count": 7,
     "metadata": {},
     "output_type": "execute_result"
    }
   ],
   "source": [
    "np.array([3.14, 4, 2, 3])"
   ]
  },
  {
   "cell_type": "markdown",
   "id": "e6116823",
   "metadata": {},
   "source": [
    "Use `dtype` to explicitly set the data type of the resulting array."
   ]
  },
  {
   "cell_type": "code",
   "execution_count": 9,
   "id": "5eeddcad",
   "metadata": {},
   "outputs": [
    {
     "data": {
      "text/plain": [
       "array([1., 2., 3., 4.], dtype=float32)"
      ]
     },
     "execution_count": 9,
     "metadata": {},
     "output_type": "execute_result"
    }
   ],
   "source": [
    "np.array([1, 2, 3, 4], dtype='float32')"
   ]
  },
  {
   "cell_type": "code",
   "execution_count": 10,
   "id": "e01a1367",
   "metadata": {},
   "outputs": [
    {
     "data": {
      "text/plain": [
       "array([[2, 3, 4],\n",
       "       [4, 5, 6],\n",
       "       [6, 7, 8]])"
      ]
     },
     "execution_count": 10,
     "metadata": {},
     "output_type": "execute_result"
    }
   ],
   "source": [
    "# nested lists result in multi-dimensional arrays\n",
    "np.array([range(i, i + 3) for i in [2, 4, 6]])"
   ]
  },
  {
   "cell_type": "markdown",
   "id": "4a9b83f0",
   "metadata": {},
   "source": [
    "# Creating Arrays from Scratch"
   ]
  },
  {
   "cell_type": "code",
   "execution_count": 11,
   "id": "2982a123",
   "metadata": {},
   "outputs": [
    {
     "data": {
      "text/plain": [
       "array([0, 0, 0, 0, 0, 0, 0, 0, 0, 0])"
      ]
     },
     "execution_count": 11,
     "metadata": {},
     "output_type": "execute_result"
    }
   ],
   "source": [
    "# Create a length-10 integer array filled with zeros\n",
    "np.zeros(10, dtype=int)"
   ]
  },
  {
   "cell_type": "code",
   "execution_count": 12,
   "id": "29d7ae13",
   "metadata": {},
   "outputs": [
    {
     "data": {
      "text/plain": [
       "array([[1., 1., 1., 1., 1.],\n",
       "       [1., 1., 1., 1., 1.],\n",
       "       [1., 1., 1., 1., 1.]])"
      ]
     },
     "execution_count": 12,
     "metadata": {},
     "output_type": "execute_result"
    }
   ],
   "source": [
    "# Create a 3x5 floating-point array filled with ones\n",
    "np.ones((3, 5), dtype=float)"
   ]
  },
  {
   "cell_type": "code",
   "execution_count": 13,
   "id": "afb521e9",
   "metadata": {},
   "outputs": [
    {
     "data": {
      "text/plain": [
       "array([[3.14, 3.14, 3.14, 3.14, 3.14],\n",
       "       [3.14, 3.14, 3.14, 3.14, 3.14],\n",
       "       [3.14, 3.14, 3.14, 3.14, 3.14]])"
      ]
     },
     "execution_count": 13,
     "metadata": {},
     "output_type": "execute_result"
    }
   ],
   "source": [
    "# Create a 3x5 array filled with 3.14\n",
    "np.full((3, 5), 3.14)"
   ]
  },
  {
   "cell_type": "code",
   "execution_count": 17,
   "id": "fa5f5375",
   "metadata": {},
   "outputs": [
    {
     "data": {
      "text/plain": [
       "array([ 0,  2,  4,  6,  8, 10, 12, 14, 16, 18])"
      ]
     },
     "execution_count": 17,
     "metadata": {},
     "output_type": "execute_result"
    }
   ],
   "source": [
    "# Create an array filled with a linear sequence\n",
    "# Starting at 0, ending at 20, stepping by 2\n",
    "# (this is similar to the built-in range() function)\n",
    "np.arange(0, 20, 2)"
   ]
  },
  {
   "cell_type": "code",
   "execution_count": 18,
   "id": "9d22d078",
   "metadata": {},
   "outputs": [
    {
     "data": {
      "text/plain": [
       "array([0.  , 0.25, 0.5 , 0.75, 1.  ])"
      ]
     },
     "execution_count": 18,
     "metadata": {},
     "output_type": "execute_result"
    }
   ],
   "source": [
    "# Create an array of five values evenly spaced between 0 and 1\n",
    "np.linspace(0, 1, 5)"
   ]
  },
  {
   "cell_type": "code",
   "execution_count": 19,
   "id": "73f87df9",
   "metadata": {},
   "outputs": [
    {
     "data": {
      "text/plain": [
       "array([[0.393716  , 0.95274236, 0.01610867],\n",
       "       [0.82335594, 0.60916636, 0.91853448],\n",
       "       [0.31360351, 0.59160562, 0.76432932]])"
      ]
     },
     "execution_count": 19,
     "metadata": {},
     "output_type": "execute_result"
    }
   ],
   "source": [
    "# Create a 3x3 array of uniformly distributed\n",
    "# random values between 0 and 1\n",
    "np.random.random((3, 3))"
   ]
  },
  {
   "cell_type": "code",
   "execution_count": 20,
   "id": "11186205",
   "metadata": {},
   "outputs": [
    {
     "data": {
      "text/plain": [
       "array([[ 1.2044146 ,  0.94798525,  1.03064888],\n",
       "       [ 0.22988173,  0.34024593,  1.6900273 ],\n",
       "       [-0.17978872,  1.11387848,  0.8847242 ]])"
      ]
     },
     "execution_count": 20,
     "metadata": {},
     "output_type": "execute_result"
    }
   ],
   "source": [
    "# Create a 3x3 array of normally distributed random values\n",
    "# with mean 0 and standard deviation 1\n",
    "np.random.normal(0, 1, (3, 3))"
   ]
  },
  {
   "cell_type": "code",
   "execution_count": 21,
   "id": "23c96669",
   "metadata": {},
   "outputs": [
    {
     "data": {
      "text/plain": [
       "array([[6, 9, 7],\n",
       "       [2, 6, 3],\n",
       "       [5, 8, 2]])"
      ]
     },
     "execution_count": 21,
     "metadata": {},
     "output_type": "execute_result"
    }
   ],
   "source": [
    "# Create a 3x3 array of random integers in the interval [0, 10)\n",
    "np.random.randint(0, 10, (3, 3))"
   ]
  },
  {
   "cell_type": "code",
   "execution_count": 22,
   "id": "b2b82e12",
   "metadata": {},
   "outputs": [
    {
     "data": {
      "text/plain": [
       "array([[1., 0., 0.],\n",
       "       [0., 1., 0.],\n",
       "       [0., 0., 1.]])"
      ]
     },
     "execution_count": 22,
     "metadata": {},
     "output_type": "execute_result"
    }
   ],
   "source": [
    "# Create a 3x3 identity matrix\n",
    "np.eye(3)"
   ]
  },
  {
   "cell_type": "code",
   "execution_count": 23,
   "id": "9cb6b6f0",
   "metadata": {},
   "outputs": [
    {
     "data": {
      "text/plain": [
       "array([1., 1., 1.])"
      ]
     },
     "execution_count": 23,
     "metadata": {},
     "output_type": "execute_result"
    }
   ],
   "source": [
    "# Create an uninitialized array of three integers\n",
    "# The values will be whatever happens to already exist at that memory location\n",
    "np.empty(3)"
   ]
  },
  {
   "cell_type": "markdown",
   "id": "78a7e276",
   "metadata": {},
   "source": [
    "# NumPy Standard Data Types\n",
    "\n",
    "\n",
    "**Data type\tDescription**\n",
    "\n",
    "`bool_`\tBoolean (True or False) stored as a byte\n",
    "\n",
    "`int_`\tDefault integer type (same as C long; normally either int64 or `int32)`\n",
    "\n",
    "`intc`\tIdentical to C int (normally int32 or int64)\n",
    "\n",
    "`intp`\tInteger used for indexing (same as C ssize_t; normally either \n",
    "\n",
    "`int32` or int64)\n",
    "\n",
    "`int8`\tByte (-128 to 127)\n",
    "\n",
    "`int16`\tInteger (-32768 to 32767)\n",
    "\n",
    "`int32`\tInteger (-2147483648 to 2147483647)\n",
    "\n",
    "`int64`\tInteger (-9223372036854775808 to 9223372036854775807)\n",
    "\n",
    "`uint8`\tUnsigned integer (0 to 255)\n",
    "\n",
    "`uint16`\tUnsigned integer (0 to 65535)\n",
    "\n",
    "`uint32`\tUnsigned integer (0 to 4294967295)\n",
    "\n",
    "`uint64`\tUnsigned integer (0 to 18446744073709551615)\n",
    "\n",
    "`float_`\tShorthand for float64.\n",
    "\n",
    "`float16`\tHalf precision float: sign bit, 5 bits exponent, 10 bits mantissa\n",
    "\n",
    "`float32`\tSingle precision float: sign bit, 8 bits exponent, 23 bits mantissa\n",
    "\n",
    "`float64`\tDouble precision float: sign bit, 11 bits exponent, 52 bits mantissa\n",
    "\n",
    "`complex_`\tShorthand for complex128.\n",
    "\n",
    "`complex64`\tComplex number, represented by two 32-bit floats\n",
    "\n",
    "`complex128`\tComplex number, represented by two 64-bit floats"
   ]
  }
 ],
 "metadata": {
  "kernelspec": {
   "display_name": "Python 3",
   "language": "python",
   "name": "python3"
  },
  "language_info": {
   "codemirror_mode": {
    "name": "ipython",
    "version": 3
   },
   "file_extension": ".py",
   "mimetype": "text/x-python",
   "name": "python",
   "nbconvert_exporter": "python",
   "pygments_lexer": "ipython3",
   "version": "3.8.8"
  }
 },
 "nbformat": 4,
 "nbformat_minor": 5
}
