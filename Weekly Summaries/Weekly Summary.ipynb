{
 "cells": [
  {
   "cell_type": "markdown",
   "id": "cc5341d0",
   "metadata": {},
   "source": [
    "# Weekly Summary - Jan 17, 2022"
   ]
  },
  {
   "cell_type": "markdown",
   "id": "d24363e5",
   "metadata": {},
   "source": [
    "# Section 1: Concepts Covered\n",
    "\n",
    "- [k-Means Clustering](https://github.com/jackiefirst/data-science/blob/main/k-means-clustering.ipynb)\n",
    "    - How it works\n",
    "    - Limitations of k-means\n",
    "    - Created k-Means algorithm using python\n",
    "    \n",
    "    \n",
    "- [Feature Engineering](https://github.com/jackiefirst/data-science/blob/main/Feature%20Engineering.ipynb)\n",
    "    - What it is\n",
    "    - How to apply it to categorical features\n",
    "    - How to apply it to text features\n",
    "    - What it means to create derived features\n",
    "    - Imputation of datax\n",
    "   \n",
    "    \n",
    "- [Understanding Scikit-Learn's Estimator API](https://github.com/jackiefirst/data-science/blob/main/Introducing%20Scikit-Learn.ipynb)\n",
    "    - Choose class of model, instantiate model class, arrange data, fit data to model, apply model to new data\n",
    "    - Simple python example for linear regression\n",
    "    - Simple python example for classification\n",
    "    \n",
    "### Resources Used \n",
    "- [Python Data Science Handbook](https://jakevdp.github.io/PythonDataScienceHandbook/index.html)\n",
    "    - Progress (Shown in concept links above)\n",
    "\n",
    "- [The Hundred Page Machine Learning Book](https://github.com/jackiefirst/data-science/blob/main/The%20Hundred%20Page%20Machine%20Learning%20Book.pdf)\n",
    "    - Progress (Page 9)\n",
    "        - Section 1: What is Machine Learning?\n",
    "        - Section 2: Notation and Definitions"
   ]
  },
  {
   "cell_type": "markdown",
   "id": "2a7242ee",
   "metadata": {},
   "source": [
    "# Section 2: Areas of Suggested Growth\n",
    "\n",
    "- Clustering\n",
    "    - k-Means Clustering\n",
    "       - Using kernal transformation to project data into a higher dimension\n",
    "       - Using silhouette analysis to determine # of clusters to choose\n",
    "       - Apply k-Means to digits example\n",
    "       - Apply k-Means to Color compression\n",
    "    - More complicated clustering algorithms\n",
    "    \n",
    "    \n",
    "- Linear Regression\n",
    "    - In-depth example in Python\n",
    "    - Understand multiple linear regression models\n",
    "    \n",
    "    \n",
    "- Classification\n",
    "    - In-depth exmaple in Python\n",
    "    - Understand multiple classification models\n",
    "    \n",
    "    \n",
    "- Feature Engineering\n",
    "    - How to apply it to Image features\n",
    "    - Understanding **Basis function regression** example (Convert linear to polynomial regression)\n",
    "    \n",
    "   \n",
    "- Answer [Ongoing Questions](https://docs.google.com/document/d/1Qrks_y0xzxzFO4ZhN9YDIdYfc6O6NbR2CQm6l0Z-2tQ/edit?usp=sharing)\n",
    "\n",
    "### Plan (Tues-Thurs)\n",
    "- Answer Ongoing Questions\n",
    "- Flash cards for methods learned to retain knowledge\n",
    "- Meet with Haseeb, other Startups \n",
    "\n",
    "### Plan Weekend (Fri-Sun)\n",
    "- ?????"
   ]
  },
  {
   "cell_type": "markdown",
   "id": "f3bb2fe6",
   "metadata": {},
   "source": [
    "# Section 3: Network Accomplishments and Schedules\n",
    "\n",
    "### Mentors\n",
    "- Haseeb Khan - Lead Data Scientist at Facebook\n",
    "- Brendan Fortuner - Senior Machine Learning Engineer at Cruise\n",
    "    \n",
    "### Network\n",
    "- Past\n",
    "    - Balaji - Data Scientist at Lyft\n",
    "    - Jonathan Neddenriep - CTO/Co-founder of Postie\n",
    "- Future\n",
    "    - Tyre Miles (Tesla Recruiter) - 9am Tuesday, Jan 18\n",
    "    - Shashank (Uno.ai) - 5pm Tuesday, Jan 18\n",
    "    - Brook Abitz (Kevala) - 10am Friday, Jan 21\n",
    "    - Nicholas Tyris (Data Scientist at Postie) - noon Friday, Jan 21"
   ]
  },
  {
   "cell_type": "markdown",
   "id": "84cdd282",
   "metadata": {},
   "source": [
    "# Section 4: Fine Tuning\n",
    "\n",
    "### What worked\n",
    "- Python Data Science Handbook\n",
    "- Hundred Page Machine Learning Book\n",
    "- Study time from 10am-2pm on weekend\n",
    "- Telling my job I plan to leave (Less stress for me, they may negotiate data science position)\n",
    "\n",
    "### What didn't work\n",
    "- DataQuest (Need something more information-dense at my level)\n",
    "- Studying past 7pm. Want less screens and to wind down."
   ]
  }
 ],
 "metadata": {
  "kernelspec": {
   "display_name": "Python 3",
   "language": "python",
   "name": "python3"
  },
  "language_info": {
   "codemirror_mode": {
    "name": "ipython",
    "version": 3
   },
   "file_extension": ".py",
   "mimetype": "text/x-python",
   "name": "python",
   "nbconvert_exporter": "python",
   "pygments_lexer": "ipython3",
   "version": "3.8.8"
  }
 },
 "nbformat": 4,
 "nbformat_minor": 5
}
